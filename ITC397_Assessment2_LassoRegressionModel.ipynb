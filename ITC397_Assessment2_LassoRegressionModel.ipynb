{
  "nbformat": 4,
  "nbformat_minor": 0,
  "metadata": {
    "colab": {
      "provenance": []
    },
    "kernelspec": {
      "name": "python3",
      "display_name": "Python 3"
    },
    "language_info": {
      "name": "python"
    }
  },
  "cells": [
    {
      "cell_type": "code",
      "execution_count": null,
      "metadata": {
        "id": "0SKpChRdXowm",
        "colab": {
          "base_uri": "https://localhost:8080/"
        },
        "outputId": "0c76265e-8dde-46a4-b7cd-1e27ca47fee4"
      },
      "outputs": [
        {
          "output_type": "stream",
          "name": "stdout",
          "text": [
            "Mean squared error: 3.0493663700145035\n",
            "Predicted fuel consumption for a vehicle of weight 885 kg: 4.81 L/100km\n"
          ]
        },
        {
          "output_type": "stream",
          "name": "stderr",
          "text": [
            "/usr/local/lib/python3.9/dist-packages/sklearn/base.py:439: UserWarning: X does not have valid feature names, but Lasso was fitted with feature names\n",
            "  warnings.warn(\n"
          ]
        }
      ],
      "source": [
        "import pandas as pd\n",
        "import numpy as np\n",
        "from sklearn.linear_model import Lasso\n",
        "from sklearn.model_selection import train_test_split\n",
        "from sklearn.metrics import mean_squared_error\n",
        "\n",
        "# Load the data\n",
        "data = pd.DataFrame({'Vehicle Weight (kg)': [105, 174, 1025, 1252, 1835, 2163, 2711],\n",
        "                     'Fuel Consumption (L/100km)': [1.6, 3.6, 5.4, 7, 9.7, 10.5, 14.4]})\n",
        "\n",
        "# Split the data into training and testing sets\n",
        "X_train, X_test, y_train, y_test = train_test_split(data[['Vehicle Weight (kg)']], data['Fuel Consumption (L/100km)'], test_size=0.2, random_state=42)\n",
        "\n",
        "# Create a Lasso regression model with alpha 1.0\n",
        "lasso_model = Lasso(alpha=1.0)\n",
        "\n",
        "# Fit the model to the training data\n",
        "lasso_model.fit(X_train, y_train)\n",
        "\n",
        "# Predict the fuel consumption of the testing data\n",
        "y_pred = lasso_model.predict(X_test)\n",
        "\n",
        "# Evaluate the model's performance\n",
        "mse = mean_squared_error(y_test, y_pred)\n",
        "print('Mean squared error:', mse)\n",
        "\n",
        "# Test the model on a new data point\n",
        "new_weight = 885\n",
        "new_consumption = lasso_model.predict([[new_weight]])\n",
        "print(f'Predicted fuel consumption for a vehicle of weight {new_weight} kg: {new_consumption[0]:.2f} L/100km')"
      ]
    }
  ]
}